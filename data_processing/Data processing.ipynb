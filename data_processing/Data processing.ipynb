{
 "cells": [
  {
   "cell_type": "code",
   "execution_count": 1,
   "metadata": {},
   "outputs": [
    {
     "name": "stdout",
     "output_type": "stream",
     "text": [
      "                     ValorMilesFOBDol  ValorMilesPesos  VolumenToneladas\n",
      "PaisDestino    Anio                                                     \n",
      "Estados Unidos 2017        1210398.64     3.571003e+09         323823.81\n",
      "               2016        1092818.62     3.333148e+09         310901.51\n",
      "               2015        1151949.18     3.168272e+09         301876.46\n",
      "               2018         912258.57     2.655861e+09         269273.70\n",
      "               2014        1109365.09     2.230233e+09         265568.42\n",
      "...                               ...              ...               ...\n",
      "Albania        2010              0.03     6.008000e+01              0.02\n",
      "Nepal          2007              0.03     5.787000e+01              0.01\n",
      "Costa Rica     2006              0.00     7.850000e+00              0.00\n",
      "Brasil         2006              0.01     2.260000e+01              0.00\n",
      "Malta          2010              0.00     1.442000e+01              0.00\n",
      "\n",
      "[1220 rows x 3 columns]\n"
     ]
    }
   ],
   "source": [
    "import pandas as pd\n",
    "cafe = pd.read_csv(\"cafe.csv\")\n",
    "exportaciones = cafe.groupby(['PaisDestino','Anio']).sum().sort_values(by=['VolumenToneladas'],ascending=False)\n",
    "final = exportaciones[['ValorMilesFOBDol','ValorMilesPesos','VolumenToneladas']]\n",
    "print(final)\n",
    "final.to_csv(\"cafeAgrupadoFinal.csv\", encoding='utf8')"
   ]
  },
  {
   "cell_type": "code",
   "execution_count": 2,
   "metadata": {},
   "outputs": [
    {
     "data": {
      "text/html": [
       "<div>\n",
       "<style scoped>\n",
       "    .dataframe tbody tr th:only-of-type {\n",
       "        vertical-align: middle;\n",
       "    }\n",
       "\n",
       "    .dataframe tbody tr th {\n",
       "        vertical-align: top;\n",
       "    }\n",
       "\n",
       "    .dataframe thead th {\n",
       "        text-align: right;\n",
       "    }\n",
       "</style>\n",
       "<table border=\"1\" class=\"dataframe\">\n",
       "  <thead>\n",
       "    <tr style=\"text-align: right;\">\n",
       "      <th></th>\n",
       "      <th></th>\n",
       "      <th>ValorMilesFOBDol</th>\n",
       "      <th>ValorMilesPesos</th>\n",
       "      <th>VolumenToneladas</th>\n",
       "    </tr>\n",
       "    <tr>\n",
       "      <th>PaisDestino</th>\n",
       "      <th>Anio</th>\n",
       "      <th></th>\n",
       "      <th></th>\n",
       "      <th></th>\n",
       "    </tr>\n",
       "  </thead>\n",
       "  <tbody>\n",
       "    <tr>\n",
       "      <td rowspan=\"5\" valign=\"top\">Estados Unidos</td>\n",
       "      <td>2017</td>\n",
       "      <td>1210398.64</td>\n",
       "      <td>3.571003e+09</td>\n",
       "      <td>323823.81</td>\n",
       "    </tr>\n",
       "    <tr>\n",
       "      <td>2016</td>\n",
       "      <td>1092818.62</td>\n",
       "      <td>3.333148e+09</td>\n",
       "      <td>310901.51</td>\n",
       "    </tr>\n",
       "    <tr>\n",
       "      <td>2015</td>\n",
       "      <td>1151949.18</td>\n",
       "      <td>3.168272e+09</td>\n",
       "      <td>301876.46</td>\n",
       "    </tr>\n",
       "    <tr>\n",
       "      <td>2018</td>\n",
       "      <td>912258.57</td>\n",
       "      <td>2.655861e+09</td>\n",
       "      <td>269273.70</td>\n",
       "    </tr>\n",
       "    <tr>\n",
       "      <td>2014</td>\n",
       "      <td>1109365.09</td>\n",
       "      <td>2.230233e+09</td>\n",
       "      <td>265568.42</td>\n",
       "    </tr>\n",
       "    <tr>\n",
       "      <td>...</td>\n",
       "      <td>...</td>\n",
       "      <td>...</td>\n",
       "      <td>...</td>\n",
       "      <td>...</td>\n",
       "    </tr>\n",
       "    <tr>\n",
       "      <td>Albania</td>\n",
       "      <td>2010</td>\n",
       "      <td>0.03</td>\n",
       "      <td>6.008000e+01</td>\n",
       "      <td>0.02</td>\n",
       "    </tr>\n",
       "    <tr>\n",
       "      <td>Nepal</td>\n",
       "      <td>2007</td>\n",
       "      <td>0.03</td>\n",
       "      <td>5.787000e+01</td>\n",
       "      <td>0.01</td>\n",
       "    </tr>\n",
       "    <tr>\n",
       "      <td>Costa Rica</td>\n",
       "      <td>2006</td>\n",
       "      <td>0.00</td>\n",
       "      <td>7.850000e+00</td>\n",
       "      <td>0.00</td>\n",
       "    </tr>\n",
       "    <tr>\n",
       "      <td>Brasil</td>\n",
       "      <td>2006</td>\n",
       "      <td>0.01</td>\n",
       "      <td>2.260000e+01</td>\n",
       "      <td>0.00</td>\n",
       "    </tr>\n",
       "    <tr>\n",
       "      <td>Malta</td>\n",
       "      <td>2010</td>\n",
       "      <td>0.00</td>\n",
       "      <td>1.442000e+01</td>\n",
       "      <td>0.00</td>\n",
       "    </tr>\n",
       "  </tbody>\n",
       "</table>\n",
       "<p>1220 rows × 3 columns</p>\n",
       "</div>"
      ],
      "text/plain": [
       "                     ValorMilesFOBDol  ValorMilesPesos  VolumenToneladas\n",
       "PaisDestino    Anio                                                     \n",
       "Estados Unidos 2017        1210398.64     3.571003e+09         323823.81\n",
       "               2016        1092818.62     3.333148e+09         310901.51\n",
       "               2015        1151949.18     3.168272e+09         301876.46\n",
       "               2018         912258.57     2.655861e+09         269273.70\n",
       "               2014        1109365.09     2.230233e+09         265568.42\n",
       "...                               ...              ...               ...\n",
       "Albania        2010              0.03     6.008000e+01              0.02\n",
       "Nepal          2007              0.03     5.787000e+01              0.01\n",
       "Costa Rica     2006              0.00     7.850000e+00              0.00\n",
       "Brasil         2006              0.01     2.260000e+01              0.00\n",
       "Malta          2010              0.00     1.442000e+01              0.00\n",
       "\n",
       "[1220 rows x 3 columns]"
      ]
     },
     "execution_count": 2,
     "metadata": {},
     "output_type": "execute_result"
    }
   ],
   "source": [
    "final"
   ]
  },
  {
   "cell_type": "code",
   "execution_count": 4,
   "metadata": {},
   "outputs": [],
   "source": [
    "coffee_exports = pd.read_csv('coffee_exports.csv')"
   ]
  },
  {
   "cell_type": "code",
   "execution_count": 5,
   "metadata": {},
   "outputs": [
    {
     "data": {
      "text/html": [
       "<div>\n",
       "<style scoped>\n",
       "    .dataframe tbody tr th:only-of-type {\n",
       "        vertical-align: middle;\n",
       "    }\n",
       "\n",
       "    .dataframe tbody tr th {\n",
       "        vertical-align: top;\n",
       "    }\n",
       "\n",
       "    .dataframe thead th {\n",
       "        text-align: right;\n",
       "    }\n",
       "</style>\n",
       "<table border=\"1\" class=\"dataframe\">\n",
       "  <thead>\n",
       "    <tr style=\"text-align: right;\">\n",
       "      <th></th>\n",
       "      <th>PaisDestino</th>\n",
       "      <th>Anio</th>\n",
       "      <th>ValorMilesFOBDol</th>\n",
       "      <th>ValorMilesPesos</th>\n",
       "      <th>VolumenToneladas</th>\n",
       "    </tr>\n",
       "  </thead>\n",
       "  <tbody>\n",
       "    <tr>\n",
       "      <td>0</td>\n",
       "      <td>Estados Unidos</td>\n",
       "      <td>2017</td>\n",
       "      <td>1210398.64</td>\n",
       "      <td>3.571003e+09</td>\n",
       "      <td>323823.81</td>\n",
       "    </tr>\n",
       "    <tr>\n",
       "      <td>1</td>\n",
       "      <td>Estados Unidos</td>\n",
       "      <td>2016</td>\n",
       "      <td>1092818.62</td>\n",
       "      <td>3.333148e+09</td>\n",
       "      <td>310901.51</td>\n",
       "    </tr>\n",
       "    <tr>\n",
       "      <td>2</td>\n",
       "      <td>Estados Unidos</td>\n",
       "      <td>2015</td>\n",
       "      <td>1151949.18</td>\n",
       "      <td>3.168272e+09</td>\n",
       "      <td>301876.46</td>\n",
       "    </tr>\n",
       "    <tr>\n",
       "      <td>3</td>\n",
       "      <td>Estados Unidos</td>\n",
       "      <td>2018</td>\n",
       "      <td>912258.57</td>\n",
       "      <td>2.655861e+09</td>\n",
       "      <td>269273.70</td>\n",
       "    </tr>\n",
       "    <tr>\n",
       "      <td>4</td>\n",
       "      <td>Estados Unidos</td>\n",
       "      <td>2014</td>\n",
       "      <td>1109365.09</td>\n",
       "      <td>2.230233e+09</td>\n",
       "      <td>265568.42</td>\n",
       "    </tr>\n",
       "    <tr>\n",
       "      <td>...</td>\n",
       "      <td>...</td>\n",
       "      <td>...</td>\n",
       "      <td>...</td>\n",
       "      <td>...</td>\n",
       "      <td>...</td>\n",
       "    </tr>\n",
       "    <tr>\n",
       "      <td>1215</td>\n",
       "      <td>Albania</td>\n",
       "      <td>2010</td>\n",
       "      <td>0.03</td>\n",
       "      <td>6.008000e+01</td>\n",
       "      <td>0.02</td>\n",
       "    </tr>\n",
       "    <tr>\n",
       "      <td>1216</td>\n",
       "      <td>Nepal</td>\n",
       "      <td>2007</td>\n",
       "      <td>0.03</td>\n",
       "      <td>5.787000e+01</td>\n",
       "      <td>0.01</td>\n",
       "    </tr>\n",
       "    <tr>\n",
       "      <td>1217</td>\n",
       "      <td>Costa Rica</td>\n",
       "      <td>2006</td>\n",
       "      <td>0.00</td>\n",
       "      <td>7.850000e+00</td>\n",
       "      <td>0.00</td>\n",
       "    </tr>\n",
       "    <tr>\n",
       "      <td>1218</td>\n",
       "      <td>Brasil</td>\n",
       "      <td>2006</td>\n",
       "      <td>0.01</td>\n",
       "      <td>2.260000e+01</td>\n",
       "      <td>0.00</td>\n",
       "    </tr>\n",
       "    <tr>\n",
       "      <td>1219</td>\n",
       "      <td>Malta</td>\n",
       "      <td>2010</td>\n",
       "      <td>0.00</td>\n",
       "      <td>1.442000e+01</td>\n",
       "      <td>0.00</td>\n",
       "    </tr>\n",
       "  </tbody>\n",
       "</table>\n",
       "<p>1220 rows × 5 columns</p>\n",
       "</div>"
      ],
      "text/plain": [
       "         PaisDestino  Anio  ValorMilesFOBDol  ValorMilesPesos  \\\n",
       "0     Estados Unidos  2017        1210398.64     3.571003e+09   \n",
       "1     Estados Unidos  2016        1092818.62     3.333148e+09   \n",
       "2     Estados Unidos  2015        1151949.18     3.168272e+09   \n",
       "3     Estados Unidos  2018         912258.57     2.655861e+09   \n",
       "4     Estados Unidos  2014        1109365.09     2.230233e+09   \n",
       "...              ...   ...               ...              ...   \n",
       "1215         Albania  2010              0.03     6.008000e+01   \n",
       "1216           Nepal  2007              0.03     5.787000e+01   \n",
       "1217      Costa Rica  2006              0.00     7.850000e+00   \n",
       "1218          Brasil  2006              0.01     2.260000e+01   \n",
       "1219           Malta  2010              0.00     1.442000e+01   \n",
       "\n",
       "      VolumenToneladas  \n",
       "0            323823.81  \n",
       "1            310901.51  \n",
       "2            301876.46  \n",
       "3            269273.70  \n",
       "4            265568.42  \n",
       "...                ...  \n",
       "1215              0.02  \n",
       "1216              0.01  \n",
       "1217              0.00  \n",
       "1218              0.00  \n",
       "1219              0.00  \n",
       "\n",
       "[1220 rows x 5 columns]"
      ]
     },
     "execution_count": 5,
     "metadata": {},
     "output_type": "execute_result"
    }
   ],
   "source": [
    "coffee_exports"
   ]
  },
  {
   "cell_type": "code",
   "execution_count": 6,
   "metadata": {},
   "outputs": [
    {
     "data": {
      "text/plain": [
       "array([2017, 2016, 2015, 2018, 2014, 2013, 2007, 2006, 2008, 2011, 2009,\n",
       "       2010, 2012])"
      ]
     },
     "execution_count": 6,
     "metadata": {},
     "output_type": "execute_result"
    }
   ],
   "source": [
    "coffee_exports['Anio'].unique()"
   ]
  },
  {
   "cell_type": "code",
   "execution_count": 7,
   "metadata": {},
   "outputs": [],
   "source": [
    "marks={str(year): str(year) for year in coffee_exports['Anio'].unique()}"
   ]
  },
  {
   "cell_type": "code",
   "execution_count": 8,
   "metadata": {},
   "outputs": [
    {
     "data": {
      "text/plain": [
       "{'2017': '2017',\n",
       " '2016': '2016',\n",
       " '2015': '2015',\n",
       " '2018': '2018',\n",
       " '2014': '2014',\n",
       " '2013': '2013',\n",
       " '2007': '2007',\n",
       " '2006': '2006',\n",
       " '2008': '2008',\n",
       " '2011': '2011',\n",
       " '2009': '2009',\n",
       " '2010': '2010',\n",
       " '2012': '2012'}"
      ]
     },
     "execution_count": 8,
     "metadata": {},
     "output_type": "execute_result"
    }
   ],
   "source": [
    "marks"
   ]
  },
  {
   "cell_type": "code",
   "execution_count": 10,
   "metadata": {},
   "outputs": [
    {
     "data": {
      "text/plain": [
       "numpy.int64"
      ]
     },
     "execution_count": 10,
     "metadata": {},
     "output_type": "execute_result"
    }
   ],
   "source": [
    "type(coffee_exports['Anio'].min())"
   ]
  },
  {
   "cell_type": "code",
   "execution_count": null,
   "metadata": {},
   "outputs": [],
   "source": []
  }
 ],
 "metadata": {
  "kernelspec": {
   "display_name": "Python 3",
   "language": "python",
   "name": "python3"
  },
  "language_info": {
   "codemirror_mode": {
    "name": "ipython",
    "version": 3
   },
   "file_extension": ".py",
   "mimetype": "text/x-python",
   "name": "python",
   "nbconvert_exporter": "python",
   "pygments_lexer": "ipython3",
   "version": "3.7.4"
  }
 },
 "nbformat": 4,
 "nbformat_minor": 2
}
